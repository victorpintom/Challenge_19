{
 "cells": [
  {
   "cell_type": "code",
   "execution_count": 1,
   "id": "f04028c8-aed0-4353-8be8-6131f7ed1c40",
   "metadata": {
    "tags": []
   },
   "outputs": [
    {
     "name": "stdout",
     "output_type": "stream",
     "text": [
      "Name: web3\n",
      "Version: 6.13.0\n",
      "Summary: web3.py\n",
      "Home-page: https://github.com/ethereum/web3.py\n",
      "Author: The Ethereum Foundation\n",
      "Author-email: snakecharmers@ethereum.org\n",
      "License: MIT\n",
      "Location: c:\\users\\victo\\anaconda3\\envs\\dev\\lib\\site-packages\n",
      "Requires: aiohttp, eth-abi, eth-account, eth-hash, eth-typing, eth-utils, hexbytes, jsonschema, lru-dict, protobuf, pyunormalize, pywin32, requests, typing-extensions, websockets\n",
      "Required-by: \n",
      "Note: you may need to restart the kernel to use updated packages.\n"
     ]
    }
   ],
   "source": [
    "pip show web3"
   ]
  },
  {
   "cell_type": "code",
   "execution_count": null,
   "id": "458c6ec6-edfd-47a5-ae75-5e0584549074",
   "metadata": {},
   "outputs": [],
   "source": []
  }
 ],
 "metadata": {
  "kernelspec": {
   "display_name": "Python 3 (ipykernel)",
   "language": "python",
   "name": "python3"
  },
  "language_info": {
   "codemirror_mode": {
    "name": "ipython",
    "version": 3
   },
   "file_extension": ".py",
   "mimetype": "text/x-python",
   "name": "python",
   "nbconvert_exporter": "python",
   "pygments_lexer": "ipython3",
   "version": "3.10.12"
  }
 },
 "nbformat": 4,
 "nbformat_minor": 5
}
