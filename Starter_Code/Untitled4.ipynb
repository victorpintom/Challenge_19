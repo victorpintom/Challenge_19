{
 "cells": [
  {
   "cell_type": "code",
   "execution_count": null,
   "id": "caf9892a-67f0-45b9-8d19-1b257860acbc",
   "metadata": {},
   "outputs": [],
   "source": [
    "# Convert eth amount to Wei\n",
    "    value = int(wage*1e18)\n",
    "\n",
    "\n",
    "# Set gas price strategy\n",
    "    w3.eth.setGasPriceStrategy(medium_gas_price_strategy)\n"
   ]
  }
 ],
 "metadata": {
  "kernelspec": {
   "display_name": "Python 3 (ipykernel)",
   "language": "python",
   "name": "python3"
  },
  "language_info": {
   "codemirror_mode": {
    "name": "ipython",
    "version": 3
   },
   "file_extension": ".py",
   "mimetype": "text/x-python",
   "name": "python",
   "nbconvert_exporter": "python",
   "pygments_lexer": "ipython3",
   "version": "3.10.12"
  }
 },
 "nbformat": 4,
 "nbformat_minor": 5
}
