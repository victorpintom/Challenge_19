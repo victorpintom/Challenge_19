{
 "cells": [
  {
   "cell_type": "code",
   "execution_count": 1,
   "id": "aca991d1-939f-45d9-8ee8-b91e141699a8",
   "metadata": {
    "tags": []
   },
   "outputs": [
    {
     "name": "stdout",
     "output_type": "stream",
     "text": [
      "Requirement already satisfied: web3 in c:\\users\\victo\\anaconda3\\envs\\dev\\lib\\site-packages (6.13.0)\n",
      "Requirement already satisfied: aiohttp>=3.7.4.post0 in c:\\users\\victo\\anaconda3\\envs\\dev\\lib\\site-packages (from web3) (3.8.2)\n",
      "Requirement already satisfied: eth-abi>=4.0.0 in c:\\users\\victo\\anaconda3\\envs\\dev\\lib\\site-packages (from web3) (4.2.1)\n",
      "Requirement already satisfied: eth-account>=0.8.0 in c:\\users\\victo\\anaconda3\\envs\\dev\\lib\\site-packages (from web3) (0.10.0)\n",
      "Requirement already satisfied: eth-hash[pycryptodome]>=0.5.1 in c:\\users\\victo\\anaconda3\\envs\\dev\\lib\\site-packages (from web3) (0.5.2)\n",
      "Requirement already satisfied: eth-typing>=3.0.0 in c:\\users\\victo\\anaconda3\\envs\\dev\\lib\\site-packages (from web3) (3.5.2)\n",
      "Requirement already satisfied: eth-utils>=2.1.0 in c:\\users\\victo\\anaconda3\\envs\\dev\\lib\\site-packages (from web3) (2.3.1)\n",
      "Requirement already satisfied: hexbytes<0.4.0,>=0.1.0 in c:\\users\\victo\\anaconda3\\envs\\dev\\lib\\site-packages (from web3) (0.3.1)\n",
      "Requirement already satisfied: jsonschema>=4.0.0 in c:\\users\\victo\\anaconda3\\envs\\dev\\lib\\site-packages (from web3) (4.17.3)\n",
      "Requirement already satisfied: lru-dict<1.3.0,>=1.1.6 in c:\\users\\victo\\anaconda3\\envs\\dev\\lib\\site-packages (from web3) (1.2.0)\n",
      "Requirement already satisfied: protobuf>=4.21.6 in c:\\users\\victo\\anaconda3\\envs\\dev\\lib\\site-packages (from web3) (4.25.0)\n",
      "Requirement already satisfied: requests>=2.16.0 in c:\\users\\victo\\anaconda3\\envs\\dev\\lib\\site-packages (from web3) (2.31.0)\n",
      "Requirement already satisfied: typing-extensions>=4.0.1 in c:\\users\\victo\\anaconda3\\envs\\dev\\lib\\site-packages (from web3) (4.7.1)\n",
      "Requirement already satisfied: websockets>=10.0.0 in c:\\users\\victo\\anaconda3\\envs\\dev\\lib\\site-packages (from web3) (10.4)\n",
      "Requirement already satisfied: pyunormalize>=15.0.0 in c:\\users\\victo\\anaconda3\\envs\\dev\\lib\\site-packages (from web3) (15.1.0)\n",
      "Requirement already satisfied: pywin32>=223 in c:\\users\\victo\\anaconda3\\envs\\dev\\lib\\site-packages (from web3) (305.1)\n",
      "Requirement already satisfied: attrs>=17.3.0 in c:\\users\\victo\\anaconda3\\envs\\dev\\lib\\site-packages (from aiohttp>=3.7.4.post0->web3) (22.1.0)\n",
      "Requirement already satisfied: charset-normalizer<3.0,>=2.0 in c:\\users\\victo\\anaconda3\\envs\\dev\\lib\\site-packages (from aiohttp>=3.7.4.post0->web3) (2.0.4)\n",
      "Requirement already satisfied: multidict<6.0,>=4.5 in c:\\users\\victo\\anaconda3\\envs\\dev\\lib\\site-packages (from aiohttp>=3.7.4.post0->web3) (5.2.0)\n",
      "Requirement already satisfied: async-timeout<5.0,>=4.0.0a3 in c:\\users\\victo\\anaconda3\\envs\\dev\\lib\\site-packages (from aiohttp>=3.7.4.post0->web3) (4.0.2)\n",
      "Requirement already satisfied: yarl<2.0,>=1.0 in c:\\users\\victo\\anaconda3\\envs\\dev\\lib\\site-packages (from aiohttp>=3.7.4.post0->web3) (1.8.1)\n",
      "Requirement already satisfied: frozenlist>=1.1.1 in c:\\users\\victo\\anaconda3\\envs\\dev\\lib\\site-packages (from aiohttp>=3.7.4.post0->web3) (1.3.3)\n",
      "Requirement already satisfied: aiosignal>=1.1.2 in c:\\users\\victo\\anaconda3\\envs\\dev\\lib\\site-packages (from aiohttp>=3.7.4.post0->web3) (1.2.0)\n",
      "Requirement already satisfied: parsimonious<0.10.0,>=0.9.0 in c:\\users\\victo\\anaconda3\\envs\\dev\\lib\\site-packages (from eth-abi>=4.0.0->web3) (0.9.0)\n",
      "Requirement already satisfied: bitarray>=2.4.0 in c:\\users\\victo\\anaconda3\\envs\\dev\\lib\\site-packages (from eth-account>=0.8.0->web3) (2.9.2)\n",
      "Requirement already satisfied: eth-keyfile>=0.6.0 in c:\\users\\victo\\anaconda3\\envs\\dev\\lib\\site-packages (from eth-account>=0.8.0->web3) (0.7.0)\n",
      "Requirement already satisfied: eth-keys>=0.4.0 in c:\\users\\victo\\anaconda3\\envs\\dev\\lib\\site-packages (from eth-account>=0.8.0->web3) (0.4.0)\n",
      "Requirement already satisfied: eth-rlp>=0.3.0 in c:\\users\\victo\\anaconda3\\envs\\dev\\lib\\site-packages (from eth-account>=0.8.0->web3) (1.0.0)\n",
      "Requirement already satisfied: rlp>=1.0.0 in c:\\users\\victo\\anaconda3\\envs\\dev\\lib\\site-packages (from eth-account>=0.8.0->web3) (4.0.0)\n",
      "Requirement already satisfied: pycryptodome<4,>=3.6.6 in c:\\users\\victo\\anaconda3\\envs\\dev\\lib\\site-packages (from eth-hash[pycryptodome]>=0.5.1->web3) (3.19.1)\n",
      "Requirement already satisfied: cytoolz>=0.10.1 in c:\\users\\victo\\anaconda3\\envs\\dev\\lib\\site-packages (from eth-utils>=2.1.0->web3) (0.12.0)\n",
      "Requirement already satisfied: pyrsistent!=0.17.0,!=0.17.1,!=0.17.2,>=0.14.0 in c:\\users\\victo\\anaconda3\\envs\\dev\\lib\\site-packages (from jsonschema>=4.0.0->web3) (0.18.0)\n",
      "Requirement already satisfied: idna<4,>=2.5 in c:\\users\\victo\\anaconda3\\envs\\dev\\lib\\site-packages (from requests>=2.16.0->web3) (3.4)\n",
      "Requirement already satisfied: urllib3<3,>=1.21.1 in c:\\users\\victo\\anaconda3\\envs\\dev\\lib\\site-packages (from requests>=2.16.0->web3) (1.26.16)\n",
      "Requirement already satisfied: certifi>=2017.4.17 in c:\\users\\victo\\anaconda3\\envs\\dev\\lib\\site-packages (from requests>=2.16.0->web3) (2023.7.22)\n",
      "Requirement already satisfied: toolz>=0.8.0 in c:\\users\\victo\\anaconda3\\envs\\dev\\lib\\site-packages (from cytoolz>=0.10.1->eth-utils>=2.1.0->web3) (0.12.0)\n",
      "Requirement already satisfied: regex>=2022.3.15 in c:\\users\\victo\\anaconda3\\envs\\dev\\lib\\site-packages (from parsimonious<0.10.0,>=0.9.0->eth-abi>=4.0.0->web3) (2022.7.9)\n",
      "Note: you may need to restart the kernel to use updated packages.\n"
     ]
    }
   ],
   "source": [
    "pip install web3"
   ]
  },
  {
   "cell_type": "code",
   "execution_count": 2,
   "id": "03ad50b1-979b-4bed-a3fd-435b5bb34605",
   "metadata": {
    "tags": []
   },
   "outputs": [
    {
     "name": "stdout",
     "output_type": "stream",
     "text": [
      "Requirement already satisfied: streamlit in c:\\users\\victo\\anaconda3\\envs\\dev\\lib\\site-packages (1.29.0)\n",
      "Requirement already satisfied: altair<6,>=4.0 in c:\\users\\victo\\anaconda3\\envs\\dev\\lib\\site-packages (from streamlit) (5.2.0)\n",
      "Requirement already satisfied: blinker<2,>=1.0.0 in c:\\users\\victo\\anaconda3\\envs\\dev\\lib\\site-packages (from streamlit) (1.7.0)\n",
      "Requirement already satisfied: cachetools<6,>=4.0 in c:\\users\\victo\\anaconda3\\envs\\dev\\lib\\site-packages (from streamlit) (5.3.2)\n",
      "Requirement already satisfied: click<9,>=7.0 in c:\\users\\victo\\anaconda3\\envs\\dev\\lib\\site-packages (from streamlit) (8.0.4)\n",
      "Requirement already satisfied: importlib-metadata<7,>=1.4 in c:\\users\\victo\\anaconda3\\envs\\dev\\lib\\site-packages (from streamlit) (6.0.0)\n",
      "Requirement already satisfied: numpy<2,>=1.19.3 in c:\\users\\victo\\anaconda3\\envs\\dev\\lib\\site-packages (from streamlit) (1.24.3)\n",
      "Requirement already satisfied: packaging<24,>=16.8 in c:\\users\\victo\\anaconda3\\envs\\dev\\lib\\site-packages (from streamlit) (23.0)\n",
      "Requirement already satisfied: pandas<3,>=1.3.0 in c:\\users\\victo\\anaconda3\\envs\\dev\\lib\\site-packages (from streamlit) (2.0.3)\n",
      "Requirement already satisfied: pillow<11,>=7.1.0 in c:\\users\\victo\\anaconda3\\envs\\dev\\lib\\site-packages (from streamlit) (9.4.0)\n",
      "Requirement already satisfied: protobuf<5,>=3.20 in c:\\users\\victo\\anaconda3\\envs\\dev\\lib\\site-packages (from streamlit) (4.25.0)\n",
      "Requirement already satisfied: pyarrow>=6.0 in c:\\users\\victo\\anaconda3\\envs\\dev\\lib\\site-packages (from streamlit) (11.0.0)\n",
      "Requirement already satisfied: python-dateutil<3,>=2.7.3 in c:\\users\\victo\\anaconda3\\envs\\dev\\lib\\site-packages (from streamlit) (2.8.2)\n",
      "Requirement already satisfied: requests<3,>=2.27 in c:\\users\\victo\\anaconda3\\envs\\dev\\lib\\site-packages (from streamlit) (2.31.0)\n",
      "Requirement already satisfied: rich<14,>=10.14.0 in c:\\users\\victo\\anaconda3\\envs\\dev\\lib\\site-packages (from streamlit) (13.7.0)\n",
      "Requirement already satisfied: tenacity<9,>=8.1.0 in c:\\users\\victo\\anaconda3\\envs\\dev\\lib\\site-packages (from streamlit) (8.2.2)\n",
      "Requirement already satisfied: toml<2,>=0.10.1 in c:\\users\\victo\\anaconda3\\envs\\dev\\lib\\site-packages (from streamlit) (0.10.2)\n",
      "Requirement already satisfied: typing-extensions<5,>=4.3.0 in c:\\users\\victo\\anaconda3\\envs\\dev\\lib\\site-packages (from streamlit) (4.7.1)\n",
      "Requirement already satisfied: tzlocal<6,>=1.1 in c:\\users\\victo\\anaconda3\\envs\\dev\\lib\\site-packages (from streamlit) (5.2)\n",
      "Requirement already satisfied: validators<1,>=0.2 in c:\\users\\victo\\anaconda3\\envs\\dev\\lib\\site-packages (from streamlit) (0.22.0)\n",
      "Requirement already satisfied: gitpython!=3.1.19,<4,>=3.0.7 in c:\\users\\victo\\anaconda3\\envs\\dev\\lib\\site-packages (from streamlit) (3.1.40)\n",
      "Requirement already satisfied: pydeck<1,>=0.8.0b4 in c:\\users\\victo\\anaconda3\\envs\\dev\\lib\\site-packages (from streamlit) (0.8.1b0)\n",
      "Requirement already satisfied: tornado<7,>=6.0.3 in c:\\users\\victo\\anaconda3\\envs\\dev\\lib\\site-packages (from streamlit) (6.3.2)\n",
      "Requirement already satisfied: watchdog>=2.1.5 in c:\\users\\victo\\anaconda3\\envs\\dev\\lib\\site-packages (from streamlit) (2.1.6)\n",
      "Requirement already satisfied: jinja2 in c:\\users\\victo\\anaconda3\\envs\\dev\\lib\\site-packages (from altair<6,>=4.0->streamlit) (3.1.2)\n",
      "Requirement already satisfied: jsonschema>=3.0 in c:\\users\\victo\\anaconda3\\envs\\dev\\lib\\site-packages (from altair<6,>=4.0->streamlit) (4.17.3)\n",
      "Requirement already satisfied: toolz in c:\\users\\victo\\anaconda3\\envs\\dev\\lib\\site-packages (from altair<6,>=4.0->streamlit) (0.12.0)\n",
      "Requirement already satisfied: colorama in c:\\users\\victo\\anaconda3\\envs\\dev\\lib\\site-packages (from click<9,>=7.0->streamlit) (0.4.6)\n",
      "Requirement already satisfied: gitdb<5,>=4.0.1 in c:\\users\\victo\\anaconda3\\envs\\dev\\lib\\site-packages (from gitpython!=3.1.19,<4,>=3.0.7->streamlit) (4.0.11)\n",
      "Requirement already satisfied: zipp>=0.5 in c:\\users\\victo\\anaconda3\\envs\\dev\\lib\\site-packages (from importlib-metadata<7,>=1.4->streamlit) (3.11.0)\n",
      "Requirement already satisfied: pytz>=2020.1 in c:\\users\\victo\\anaconda3\\envs\\dev\\lib\\site-packages (from pandas<3,>=1.3.0->streamlit) (2022.7)\n",
      "Requirement already satisfied: tzdata>=2022.1 in c:\\users\\victo\\anaconda3\\envs\\dev\\lib\\site-packages (from pandas<3,>=1.3.0->streamlit) (2023.3)\n",
      "Requirement already satisfied: six>=1.5 in c:\\users\\victo\\anaconda3\\envs\\dev\\lib\\site-packages (from python-dateutil<3,>=2.7.3->streamlit) (1.16.0)\n",
      "Requirement already satisfied: charset-normalizer<4,>=2 in c:\\users\\victo\\anaconda3\\envs\\dev\\lib\\site-packages (from requests<3,>=2.27->streamlit) (2.0.4)\n",
      "Requirement already satisfied: idna<4,>=2.5 in c:\\users\\victo\\anaconda3\\envs\\dev\\lib\\site-packages (from requests<3,>=2.27->streamlit) (3.4)\n",
      "Requirement already satisfied: urllib3<3,>=1.21.1 in c:\\users\\victo\\anaconda3\\envs\\dev\\lib\\site-packages (from requests<3,>=2.27->streamlit) (1.26.16)\n",
      "Requirement already satisfied: certifi>=2017.4.17 in c:\\users\\victo\\anaconda3\\envs\\dev\\lib\\site-packages (from requests<3,>=2.27->streamlit) (2023.7.22)\n",
      "Requirement already satisfied: markdown-it-py>=2.2.0 in c:\\users\\victo\\anaconda3\\envs\\dev\\lib\\site-packages (from rich<14,>=10.14.0->streamlit) (2.2.0)\n",
      "Requirement already satisfied: pygments<3.0.0,>=2.13.0 in c:\\users\\victo\\anaconda3\\envs\\dev\\lib\\site-packages (from rich<14,>=10.14.0->streamlit) (2.15.1)\n",
      "Requirement already satisfied: smmap<6,>=3.0.1 in c:\\users\\victo\\anaconda3\\envs\\dev\\lib\\site-packages (from gitdb<5,>=4.0.1->gitpython!=3.1.19,<4,>=3.0.7->streamlit) (5.0.1)\n",
      "Requirement already satisfied: MarkupSafe>=2.0 in c:\\users\\victo\\anaconda3\\envs\\dev\\lib\\site-packages (from jinja2->altair<6,>=4.0->streamlit) (2.1.1)\n",
      "Requirement already satisfied: attrs>=17.4.0 in c:\\users\\victo\\anaconda3\\envs\\dev\\lib\\site-packages (from jsonschema>=3.0->altair<6,>=4.0->streamlit) (22.1.0)\n",
      "Requirement already satisfied: pyrsistent!=0.17.0,!=0.17.1,!=0.17.2,>=0.14.0 in c:\\users\\victo\\anaconda3\\envs\\dev\\lib\\site-packages (from jsonschema>=3.0->altair<6,>=4.0->streamlit) (0.18.0)\n",
      "Requirement already satisfied: mdurl~=0.1 in c:\\users\\victo\\anaconda3\\envs\\dev\\lib\\site-packages (from markdown-it-py>=2.2.0->rich<14,>=10.14.0->streamlit) (0.1.0)\n",
      "Note: you may need to restart the kernel to use updated packages.\n"
     ]
    }
   ],
   "source": [
    "pip install streamlit"
   ]
  },
  {
   "cell_type": "code",
   "execution_count": 3,
   "id": "8a88ceac-7e95-4ac2-9344-dfa61413b608",
   "metadata": {
    "tags": []
   },
   "outputs": [
    {
     "name": "stdout",
     "output_type": "stream",
     "text": [
      "Requirement already satisfied: python-dotenv in c:\\users\\victo\\anaconda3\\envs\\dev\\lib\\site-packages (1.0.0)Note: you may need to restart the kernel to use updated packages.\n",
      "\n"
     ]
    }
   ],
   "source": [
    "pip install python-dotenv"
   ]
  },
  {
   "cell_type": "code",
   "execution_count": 4,
   "id": "c4fff68e-af61-4d27-90e8-5e164569bf89",
   "metadata": {
    "tags": []
   },
   "outputs": [
    {
     "name": "stdout",
     "output_type": "stream",
     "text": [
      "Requirement already satisfied: bip44 in c:\\users\\victo\\anaconda3\\envs\\dev\\lib\\site-packages (0.1.4)\n",
      "Requirement already satisfied: bip32<4.0,>=3.1 in c:\\users\\victo\\anaconda3\\envs\\dev\\lib\\site-packages (from bip44) (3.4)\n",
      "Requirement already satisfied: mnemonic<0.21,>=0.20 in c:\\users\\victo\\anaconda3\\envs\\dev\\lib\\site-packages (from bip44) (0.20)\n",
      "Requirement already satisfied: pycryptodome<4.0.0,>=3.16.0 in c:\\users\\victo\\anaconda3\\envs\\dev\\lib\\site-packages (from bip44) (3.19.1)\n",
      "Requirement already satisfied: base58~=2.0 in c:\\users\\victo\\anaconda3\\envs\\dev\\lib\\site-packages (from bip32<4.0,>=3.1->bip44) (2.1.1)\n",
      "Requirement already satisfied: coincurve<19,>=15.0 in c:\\users\\victo\\anaconda3\\envs\\dev\\lib\\site-packages (from bip32<4.0,>=3.1->bip44) (18.0.0)\n",
      "Requirement already satisfied: asn1crypto in c:\\users\\victo\\anaconda3\\envs\\dev\\lib\\site-packages (from coincurve<19,>=15.0->bip32<4.0,>=3.1->bip44) (1.5.1)\n",
      "Requirement already satisfied: cffi>=1.3.0 in c:\\users\\victo\\anaconda3\\envs\\dev\\lib\\site-packages (from coincurve<19,>=15.0->bip32<4.0,>=3.1->bip44) (1.15.1)\n",
      "Requirement already satisfied: pycparser in c:\\users\\victo\\anaconda3\\envs\\dev\\lib\\site-packages (from cffi>=1.3.0->coincurve<19,>=15.0->bip32<4.0,>=3.1->bip44) (2.21)\n",
      "Note: you may need to restart the kernel to use updated packages.\n"
     ]
    }
   ],
   "source": [
    "pip install bip44"
   ]
  },
  {
   "cell_type": "code",
   "execution_count": null,
   "id": "a1ef93ad-bf65-466f-b3ce-9b31b76e5b99",
   "metadata": {},
   "outputs": [],
   "source": []
  }
 ],
 "metadata": {
  "kernelspec": {
   "display_name": "Python 3 (ipykernel)",
   "language": "python",
   "name": "python3"
  },
  "language_info": {
   "codemirror_mode": {
    "name": "ipython",
    "version": 3
   },
   "file_extension": ".py",
   "mimetype": "text/x-python",
   "name": "python",
   "nbconvert_exporter": "python",
   "pygments_lexer": "ipython3",
   "version": "3.10.12"
  }
 },
 "nbformat": 4,
 "nbformat_minor": 5
}
